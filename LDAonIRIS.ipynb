{
 "cells": [
  {
   "cell_type": "markdown",
   "metadata": {},
   "source": [
    "Working on a multi-class problem using the famous Iris dataset that has been deposited on the UCI machine learning repository\n",
    "(https://archive.ics.uci.edu/ml/datasets/Iris).\n",
    "\n",
    "The iris dataset contains measurements for 150 iris flowers from three different species.\n",
    "\n",
    "The three classes in the Iris dataset:\n",
    "1. Iris-setosa (n=50)\n",
    "2. Iris-versicolor (n=50)\n",
    "3. Iris-virginica (n=50)\n",
    "\n",
    "The four features of the Iris dataset:\n",
    "1. sepal length in cm\n",
    "2. sepal width in cm\n",
    "3. petal length in cm\n",
    "4. petal width in cm\n",
    "\n",
    "<img src=\"iris_petal_sepal.png\">\n",
    "\n"
   ]
  },
  {
   "cell_type": "code",
   "execution_count": 1,
   "metadata": {},
   "outputs": [],
   "source": [
    "from sklearn.datasets import make_classification\n",
    "import matplotlib.pyplot as plt\n",
    "import numpy as np\n",
    "import seaborn as sns; sns.set();\n",
    "import pandas as pd\n",
    "from sklearn.model_selection import train_test_split\n",
    "from numpy import pi\n",
    "from sklearn.naive_bayes import GaussianNB"
   ]
  },
  {
   "cell_type": "markdown",
   "metadata": {},
   "source": [
    "### Importing the dataset"
   ]
  },
  {
   "cell_type": "code",
   "execution_count": 2,
   "metadata": {},
   "outputs": [
    {
     "data": {
      "text/html": [
       "<div>\n",
       "<style scoped>\n",
       "    .dataframe tbody tr th:only-of-type {\n",
       "        vertical-align: middle;\n",
       "    }\n",
       "\n",
       "    .dataframe tbody tr th {\n",
       "        vertical-align: top;\n",
       "    }\n",
       "\n",
       "    .dataframe thead th {\n",
       "        text-align: right;\n",
       "    }\n",
       "</style>\n",
       "<table border=\"1\" class=\"dataframe\">\n",
       "  <thead>\n",
       "    <tr style=\"text-align: right;\">\n",
       "      <th></th>\n",
       "      <th>sepal-length</th>\n",
       "      <th>sepal-width</th>\n",
       "      <th>petal-length</th>\n",
       "      <th>petal-width</th>\n",
       "      <th>Class</th>\n",
       "    </tr>\n",
       "  </thead>\n",
       "  <tbody>\n",
       "    <tr>\n",
       "      <th>145</th>\n",
       "      <td>6.7</td>\n",
       "      <td>3.0</td>\n",
       "      <td>5.2</td>\n",
       "      <td>2.3</td>\n",
       "      <td>Iris-virginica</td>\n",
       "    </tr>\n",
       "    <tr>\n",
       "      <th>146</th>\n",
       "      <td>6.3</td>\n",
       "      <td>2.5</td>\n",
       "      <td>5.0</td>\n",
       "      <td>1.9</td>\n",
       "      <td>Iris-virginica</td>\n",
       "    </tr>\n",
       "    <tr>\n",
       "      <th>147</th>\n",
       "      <td>6.5</td>\n",
       "      <td>3.0</td>\n",
       "      <td>5.2</td>\n",
       "      <td>2.0</td>\n",
       "      <td>Iris-virginica</td>\n",
       "    </tr>\n",
       "    <tr>\n",
       "      <th>148</th>\n",
       "      <td>6.2</td>\n",
       "      <td>3.4</td>\n",
       "      <td>5.4</td>\n",
       "      <td>2.3</td>\n",
       "      <td>Iris-virginica</td>\n",
       "    </tr>\n",
       "    <tr>\n",
       "      <th>149</th>\n",
       "      <td>5.9</td>\n",
       "      <td>3.0</td>\n",
       "      <td>5.1</td>\n",
       "      <td>1.8</td>\n",
       "      <td>Iris-virginica</td>\n",
       "    </tr>\n",
       "  </tbody>\n",
       "</table>\n",
       "</div>"
      ],
      "text/plain": [
       "     sepal-length  sepal-width  petal-length  petal-width           Class\n",
       "145           6.7          3.0           5.2          2.3  Iris-virginica\n",
       "146           6.3          2.5           5.0          1.9  Iris-virginica\n",
       "147           6.5          3.0           5.2          2.0  Iris-virginica\n",
       "148           6.2          3.4           5.4          2.3  Iris-virginica\n",
       "149           5.9          3.0           5.1          1.8  Iris-virginica"
      ]
     },
     "execution_count": 2,
     "metadata": {},
     "output_type": "execute_result"
    }
   ],
   "source": [
    "url = \"https://archive.ics.uci.edu/ml/machine-learning-databases/iris/iris.data\"\n",
    "names = ['sepal-length', 'sepal-width', 'petal-length', 'petal-width', 'Class']\n",
    "dataset = pd.read_csv(url, names=names)\n",
    "\n",
    "dataset.tail()"
   ]
  },
  {
   "cell_type": "markdown",
   "metadata": {},
   "source": [
    "### Data preprocessing\n",
    "\n",
    "Once dataset is loaded into a pandas data frame object, the first step is to divide dataset into features and corresponding labels and then divide the resultant dataset into training and test sets. The following code divides data into labels and feature set:"
   ]
  },
  {
   "cell_type": "code",
   "execution_count": 3,
   "metadata": {},
   "outputs": [],
   "source": [
    "X = dataset.iloc[:, 0:4].values\n",
    "y = dataset.iloc[:, 4].values"
   ]
  },
  {
   "cell_type": "markdown",
   "metadata": {},
   "source": [
    "The above script assigns the first four columns of the dataset i.e. the feature set to X variable while the values in the fifth column (labels) are assigned to the y variable.\n",
    "\n",
    "The following code divides data into training and test sets:"
   ]
  },
  {
   "cell_type": "code",
   "execution_count": 4,
   "metadata": {},
   "outputs": [],
   "source": [
    "from sklearn.model_selection import train_test_split\n",
    "X_train, X_test, y_train, y_test = train_test_split(X, y, test_size=0.2, random_state=0)"
   ]
  },
  {
   "cell_type": "markdown",
   "metadata": {},
   "source": [
    "#### Feature Scaling\n",
    "\n",
    "We will now perform feature scaling as part of data preprocessing too. For this task, we will be using scikit learn `StandardScalar`."
   ]
  },
  {
   "cell_type": "code",
   "execution_count": 5,
   "metadata": {},
   "outputs": [],
   "source": [
    "from sklearn.preprocessing import StandardScaler\n",
    "\n",
    "sc = StandardScaler()\n",
    "X_train = sc.fit_transform(X_train)\n",
    "X_test = sc.transform(X_test)"
   ]
  },
  {
   "cell_type": "markdown",
   "metadata": {},
   "source": [
    " LDA on the IRIS dataset and computing the overall accuracy of the classifier."
   ]
  },
  {
   "cell_type": "code",
   "execution_count": 6,
   "metadata": {},
   "outputs": [],
   "source": [
    "### WRITE YOUR CODE HERE ####\n",
    "\n",
    "def LDA(X_train, y_train):\n",
    "    # Collecting all class 0 and class 1 into separate variables\n",
    "    class_1 = X_train[np.argwhere(y_train == 'Iris-setosa')[:, 0:4]].reshape(-1,4)\n",
    "    class_2 = X_train[np.argwhere(y_train == 'Iris-versicolor')[:, 0:4]].reshape(-1,4)\n",
    "    class_3 = X_train[np.argwhere(y_train == 'Iris-virginica')[:, 0:4]].reshape(-1,4)\n",
    "\n",
    "    # Getting number of examples in each class\n",
    "    num_class_1_samples = np.shape(class_1)[0]\n",
    "    num_class_2_samples = np.shape(class_2)[0]\n",
    "    num_class_3_samples = np.shape(class_3)[0]\n",
    "\n",
    "    # Computing class mean for each label and calculating the difference between them.\n",
    "    class_1_mean = np.mean(class_1,axis = 0).reshape(4,1);\n",
    "    class_2_mean = np.mean(class_2,axis = 0).reshape(4,1);\n",
    "    class_3_mean = np.mean(class_3,axis = 0).reshape(4,1);\n",
    "    overall_mean = np.mean(X_train,axis=0).reshape(4,1);\n",
    "\n",
    "    SB_1 = num_class_1_samples*(class_1_mean-overall_mean)@(class_1_mean-overall_mean).T;\n",
    "    SB_2 = num_class_2_samples*(class_2_mean-overall_mean)@(class_2_mean-overall_mean).T;\n",
    "    SB_3 = num_class_3_samples*(class_3_mean-overall_mean)@(class_3_mean-overall_mean).T;\n",
    "\n",
    "    SB = SB_1 + SB_2 + SB_3;\n",
    "\n",
    "    #Calculating covariance matrix\n",
    "    cov_1 = (class_1.T - class_1_mean)@(class_1.T - class_1_mean).T\n",
    "    cov_2 = (class_2.T - class_2_mean)@(class_2.T - class_2_mean).T\n",
    "    cov_3 = (class_3.T - class_3_mean)@(class_3.T - class_3_mean).T\n",
    "\n",
    "    SW = cov_1 + cov_2 + cov_3;\n",
    "\n",
    "    eigvals, eigvecs = np.linalg.eig(np.linalg.pinv(SW)@(SB))\n",
    "    \n",
    "    # Getting the eigenvectors with the maximum eigenvalue.\n",
    "    idx = np.real(eigvals).argsort()[::-1]\n",
    "    weights = np.atleast_1d(eigvecs[:, idx])[:, :2]\n",
    "    return np.real(weights)"
   ]
  },
  {
   "cell_type": "code",
   "execution_count": 7,
   "metadata": {},
   "outputs": [],
   "source": [
    "lda_weights = LDA(X_train, y_train)"
   ]
  },
  {
   "cell_type": "code",
   "execution_count": 8,
   "metadata": {},
   "outputs": [
    {
     "name": "stdout",
     "output_type": "stream",
     "text": [
      "\n",
      "\t\tLDA on train data\n"
     ]
    },
    {
     "data": {
      "image/png": "[encoded data removed]",
      "text/plain": [
       "<Figure size 360x360 with 1 Axes>"
      ]
     },
     "metadata": {},
     "output_type": "display_data"
    },
    {
     "name": "stdout",
     "output_type": "stream",
     "text": [
      "\t\tLDA on test data\n"
     ]
    },
    {
     "data": {
      "image/png": "[encoded data removed]",
      "text/plain": [
       "<Figure size 360x360 with 1 Axes>"
      ]
     },
     "metadata": {},
     "output_type": "display_data"
    }
   ],
   "source": [
    "X_train_lda = X_train@lda_weights\n",
    "X_test_lda = X_test@lda_weights\n",
    "\n",
    "def plot_LDA(X_input,label):\n",
    "    data = pd.DataFrame(X_input)\n",
    "    data['class'] = label\n",
    "    data.columns=[\"LD1\",\"LD2\",\"class\"]\n",
    "    data.head()\n",
    "    markers = ['o', 'x','s']\n",
    "    colors = ['b', 'g','r']\n",
    "    customPalette = sns.set_palette(sns.color_palette(colors))\n",
    "    sns.lmplot(x=\"LD1\", y=\"LD2\", data=data, hue='class', markers=markers,fit_reg=False,legend=False)\n",
    "    plt.legend(loc='upper center')\n",
    "    plt.show()\n",
    "    \n",
    "print(\"\\n\\t\\tLDA on train data\")\n",
    "plot_LDA(X_train_lda,y_train)\n",
    "print(\"\\t\\tLDA on test data\")\n",
    "plot_LDA(X_test_lda,y_test)"
   ]
  },
  {
   "cell_type": "code",
   "execution_count": 9,
   "metadata": {},
   "outputs": [
    {
     "name": "stdout",
     "output_type": "stream",
     "text": [
      "Training set accuracy:  97.5%\n",
      "Test set accuracy:  100.0%\n"
     ]
    }
   ],
   "source": [
    "model = GaussianNB(priors = None)\n",
    "model.fit(X_train_lda,y_train)\n",
    "\n",
    "acc= str(model.score(X_train_lda,y_train)*100)+'%'\n",
    "\n",
    "print(\"Training set accuracy: \",acc)\n",
    "\n",
    "    \n",
    "model = GaussianNB(priors = None)\n",
    "model.fit(X_test_lda,y_test)\n",
    "\n",
    "acc= str(model.score(X_test_lda,y_test)*100)+'%'\n",
    "\n",
    "print(\"Test set accuracy: \", acc)\n"
   ]
  },
  {
   "cell_type": "code",
   "execution_count": 10,
   "metadata": {},
   "outputs": [],
   "source": [
    "X_plot = sc.fit_transform(X)@lda_weights\n",
    "Y_plot = y"
   ]
  },
  {
   "cell_type": "code",
   "execution_count": 11,
   "metadata": {},
   "outputs": [],
   "source": [
    "N = 500\n",
    "X1 = np.linspace(-2.5, 2.5, N)\n",
    "X2 = np.linspace(-1, 1, N)\n",
    "X1, X2 = np.meshgrid(X1,X2)\n",
    "\n",
    "temp = np.copy(Y_plot)\n",
    "temp[temp == 'Iris-setosa'] = int(0)\n",
    "temp[temp == 'Iris-versicolor'] = int(1)\n",
    "temp[temp == 'Iris-virginica'] = int(2)\n",
    "temp = temp.tolist()\n",
    "\n",
    "model = GaussianNB(priors = None)\n",
    "model.fit(X_plot,temp)\n",
    "\n",
    "temp = np.array([model.predict([[x1,x2]])[0] for x1, x2 in zip(X1.flatten(), X2.flatten())])\n",
    "Z = temp.reshape(X1.shape)"
   ]
  },
  {
   "cell_type": "code",
   "execution_count": 12,
   "metadata": {},
   "outputs": [
    {
     "data": {
      "image/png": "[encoded data removed]",
      "text/plain": [
       "<Figure size 504x504 with 1 Axes>"
      ]
     },
     "metadata": {},
     "output_type": "display_data"
    }
   ],
   "source": [
    "def plot_decision(model,X1,X2,Z):\n",
    "    fig = plt.figure(figsize = (7,7))\n",
    "    ax = fig.add_subplot()\n",
    "\n",
    "    ax.contour( X1, X2, Z, 2, alpha = 0.6, colors = ('r','g','b'))\n",
    "    ax.contourf( X1, X2, Z, 2, alpha = 0.6, colors = ('r','g','b'))\n",
    "    ax.scatter(X_plot[np.argwhere(Y_plot == 'Iris-setosa')[:, 0]][:,0], X_plot[np.argwhere(Y_plot == 'Iris-setosa')[:, 0]][:,1], alpha = 1, color='r',label ='Iris-setosa')\n",
    "    ax.scatter(X_plot[np.argwhere(Y_plot == 'Iris-versicolor')[:, 0]][:,0], X_plot[np.argwhere(Y_plot == 'Iris-versicolor')[:, 0]][:,1], alpha = 1, color='g',label ='Iris-versicolor')\n",
    "    ax.scatter(X_plot[np.argwhere(Y_plot == 'Iris-virginica')[:, 0]][:,0], X_plot[np.argwhere(Y_plot == 'Iris-virginica')[:, 0]][:,1], alpha = 1, color='b',label ='Iris-virginica')\n",
    "\n",
    "    ax.set_xlabel('LD1')\n",
    "    ax.set_ylabel('LD2')\n",
    "\n",
    "    ax.set_title('LDA Multi-Class Decision Boundary')\n",
    "    plt.legend()\n",
    "    plt.show()\n",
    "\n",
    "plot_decision(model,X1,X2,Z)"
   ]
  }
 ],
 "metadata": {
  "kernelspec": {
   "display_name": "Python 3",
   "language": "python",
   "name": "python3"
  },
  "language_info": {
   "codemirror_mode": {
    "name": "ipython",
    "version": 3
   },
   "file_extension": ".py",
   "mimetype": "text/x-python",
   "name": "python",
   "nbconvert_exporter": "python",
   "pygments_lexer": "ipython3",
   "version": "3.8.5"
  }
 },
 "nbformat": 4,
 "nbformat_minor": 2
}
