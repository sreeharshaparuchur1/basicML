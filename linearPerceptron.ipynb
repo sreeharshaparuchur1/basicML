{
 "cells": [
  {
   "cell_type": "markdown",
   "metadata": {
    "colab_type": "text",
    "id": "fwxWcO7fqb-L"
   },
   "source": [
    "# Excercise - Multi-class classification of MNIST using Perceptron"
   ]
  },
  {
   "cell_type": "markdown",
   "metadata": {
    "colab_type": "text",
    "id": "vcygblmOmQDZ"
   },
   "source": [
    "In binary perceptron, where $\\mathbf{y} \\in \\{-1, +1\\}$, we used to update our weights only for wrongly classified examples.\n",
    "\n",
    "The multi-class perceptron is regarded as a generalization of binary perceptron. Learning through iteration is the same as the perceptron. Weighted inputs are passed through a multiclass signum activation function. If the predicted output label is the same as true label then weights are not updated. However, when predicted output label $\\neq$ true label, then the wrongly classified input example is added to the weights of the correct label and subtracted from the weights of the incorrect label. Effectively, this amounts to ’rewarding’ the correct weight vector, ’punishing’ the misleading, incorrect weight\n",
    "vector, and leaving alone an other weight vectors."
   ]
  },
  {
   "cell_type": "code",
   "execution_count": 3,
   "metadata": {},
   "outputs": [],
   "source": [
    "from sklearn import datasets\n",
    "from sklearn.datasets import make_classification\n",
    "from sklearn.model_selection import train_test_split\n",
    "\n",
    "#from utils import plot_decision_boundary, multi_class_signum, get_accuracy, get_prediction\n",
    "#from utils import plot_2D_input_datapoints, generate_gifs, normalize, signum\n",
    "\n",
    "import matplotlib.pyplot as plt\n",
    "import random\n",
    "import numpy as np\n",
    "import seaborn as sns; sns.set();\n",
    "import pandas as pd\n",
    "import math\n",
    "#import gif\n",
    "import warnings\n",
    "warnings.filterwarnings('ignore')"
   ]
  },
  {
   "cell_type": "code",
   "execution_count": 4,
   "metadata": {
    "colab": {},
    "colab_type": "code",
    "executionInfo": {
     "elapsed": 223975,
     "status": "ok",
     "timestamp": 1596984132348,
     "user": {
      "displayName": "KARTIK RISHI BHARADWAJ 14BEE0070",
      "photoUrl": "",
      "userId": "12368401133146776355"
     },
     "user_tz": -330
    },
    "id": "gNkGLnbjTY-s"
   },
   "outputs": [],
   "source": [
    "# Setting the seed to ensure reproducibility of experiments\n",
    "np.random.seed(11)\n",
    "\n",
    "# One-hot encoding of target label, Y\n",
    "def one_hot(a):\n",
    "    b = -1 * np.ones((a.size, a.max()+1))\n",
    "    b[np.arange(a.size), a] = 1\n",
    "    return b\n",
    "\n",
    "# Loading digits datasets\n",
    "digits = datasets.load_digits()\n",
    "\n",
    "# One-hot encoding of target label, Y\n",
    "Y = digits.target\n",
    "Y = one_hot(Y)\n",
    "\n",
    "# Adding column of ones to absorb bias b of the hyperplane into X\n",
    "X = digits.data\n",
    "bias_ones = np.ones((len(X), 1))\n",
    "X = np.hstack((X, bias_ones))"
   ]
  },
  {
   "cell_type": "code",
   "execution_count": 5,
   "metadata": {
    "colab": {
     "base_uri": "https://localhost:8080/",
     "height": 67
    },
    "colab_type": "code",
    "executionInfo": {
     "elapsed": 223957,
     "status": "ok",
     "timestamp": 1596984132353,
     "user": {
      "displayName": "KARTIK RISHI BHARADWAJ 14BEE0070",
      "photoUrl": "",
      "userId": "12368401133146776355"
     },
     "user_tz": -330
    },
    "id": "0BPvc5P8KvrM",
    "outputId": "233f09b1-7641-4c60-c21d-74a2264f8bc3"
   },
   "outputs": [
    {
     "name": "stdout",
     "output_type": "stream",
     "text": [
      "Training dataset:  (1257, 65)\n",
      "Validation dataset:  (180, 65)\n",
      "Test dataset:  (360, 65)\n"
     ]
    }
   ],
   "source": [
    "# Train-val-test data\n",
    "X_train_val, X_test, Y_train_val, Y_test = train_test_split(X, Y, shuffle=True, test_size = 0.2)\n",
    "X_train, X_val, Y_train, Y_val = train_test_split(X_train_val, Y_train_val, test_size = 0.12517)\n",
    "\n",
    "print(\"Training dataset: \", X_train.shape)\n",
    "print(\"Validation dataset: \", X_val.shape)\n",
    "print(\"Test dataset: \", X_test.shape)"
   ]
  },
  {
   "cell_type": "code",
   "execution_count": 6,
   "metadata": {
    "colab": {
     "base_uri": "https://localhost:8080/",
     "height": 292
    },
    "colab_type": "code",
    "executionInfo": {
     "elapsed": 223939,
     "status": "ok",
     "timestamp": 1596984132358,
     "user": {
      "displayName": "KARTIK RISHI BHARADWAJ 14BEE0070",
      "photoUrl": "",
      "userId": "12368401133146776355"
     },
     "user_tz": -330
    },
    "id": "QPJZdeDtUfoy",
    "outputId": "66a50417-5c21-4158-f029-20ef755e50f4"
   },
   "outputs": [
    {
     "data": {
      "text/plain": [
       "<Figure size 432x288 with 0 Axes>"
      ]
     },
     "metadata": {},
     "output_type": "display_data"
    },
    {
     "data": {
      "image/png": "[encoded data removed]",
      "text/plain": [
       "<Figure size 288x288 with 1 Axes>"
      ]
     },
     "metadata": {
      "needs_background": "light"
     },
     "output_type": "display_data"
    }
   ],
   "source": [
    "sns.reset_orig();\n",
    "\n",
    "plt.gray()\n",
    "plt.matshow(digits.images[10])\n",
    "plt.show();"
   ]
  },
  {
   "cell_type": "code",
   "execution_count": 9,
   "metadata": {},
   "outputs": [
    {
     "name": "stdout",
     "output_type": "stream",
     "text": [
      "For digit 0 the number of misclassified samples after training is 0\n",
      "For digit 1 the number of misclassified samples after training is 16\n",
      "For digit 2 the number of misclassified samples after training is 0\n",
      "For digit 3 the number of misclassified samples after training is 5\n",
      "For digit 4 the number of misclassified samples after training is 0\n",
      "For digit 5 the number of misclassified samples after training is 0\n",
      "For digit 6 the number of misclassified samples after training is 0\n",
      "For digit 7 the number of misclassified samples after training is 0\n",
      "For digit 8 the number of misclassified samples after training is 77\n",
      "For digit 9 the number of misclassified samples after training is 49\n"
     ]
    }
   ],
   "source": [
    "\n",
    "\n",
    "def core_algo(X_train,Y_train,epochs,lr):\n",
    "    \n",
    "    start = 1\n",
    "    W = np.zeros((X_train.shape[1],1))\n",
    "\n",
    "    for i in range(epochs):\n",
    "        error_count = 0\n",
    "        total_sum = 0\n",
    "        for x,y in zip(X_train,Y_train):\n",
    "\n",
    "            x = np.reshape(x,(x.shape[0],1))\n",
    "            y_pred = W.T@x\n",
    "           \n",
    "            if (y_pred*y)<=0:\n",
    "                \n",
    "                error_count+=1\n",
    "                total_sum+=((lr*y*x))\n",
    "\n",
    "        start+=1\n",
    "        W += total_sum\n",
    "    return W,error_count\n",
    "\n",
    "\n",
    "\n",
    "def train_algo(X_train,Y_train,epochs,lr):\n",
    "    \n",
    "    W_final = np.zeros((X_train.shape[1],Y_train.shape[1]))\n",
    "    for classie in range(Y_train.shape[1]):\n",
    "\n",
    "        yee = Y_train[:,classie]\n",
    "\n",
    "        W,error_count = core_algo(X_train,yee,epochs,lr)\n",
    "        print(\"For digit %d the number of misclassified samples after training is %d\"%(classie,error_count))\n",
    "        W_final[:,classie] = W[:,0]\n",
    "    return W_final\n",
    "        \n",
    "Weightsies = train_algo(X_train,Y_train,1000,0.1)\n",
    "\n"
   ]
  },
  {
   "cell_type": "code",
   "execution_count": 10,
   "metadata": {},
   "outputs": [
    {
     "name": "stdout",
     "output_type": "stream",
     "text": [
      "The accuracy for train is:\n",
      "90.69212410501193\n",
      "The accuracy for validation is:\n",
      "87.22222222222223\n",
      "The accuracy for test is:\n",
      "86.38888888888889\n"
     ]
    }
   ],
   "source": [
    "def prediction(X,Y,W):\n",
    "    \n",
    "#     print(W.shape)\n",
    "    no_of_digits = Y.shape[1]\n",
    "    predicted_classes = np.zeros((X.shape[0],1))\n",
    "    \n",
    "    for i in range(X.shape[0]):\n",
    "        \n",
    "        for digit in range(no_of_digits):\n",
    "            \n",
    "            x = np.reshape(X[i,:],(X[i,:].shape[0],1))\n",
    "\n",
    "            W_slice = W[:,digit]\n",
    "            predict_digit = W_slice.T@x\n",
    "\n",
    "            if predict_digit>0:\n",
    "                \n",
    "                predicted_classes[i,0] = digit\n",
    "                break\n",
    "                \n",
    "    return predicted_classes\n",
    "\n",
    "predicted_val = prediction(X_val,Y_val,Weightsies)\n",
    "predicted_test = prediction(X_test,Y_test,Weightsies)\n",
    "predicted_train = prediction(X_train,Y_train,Weightsies)\n",
    "\n",
    "def accuracy_calculator(preds,y):\n",
    "    \n",
    "    error = 0\n",
    "    no_of_samples = y.shape[0]\n",
    "    \n",
    "    for i in range(no_of_samples):\n",
    "        \n",
    "        y_sample = y[i,:]\n",
    "        pred = preds[i]\n",
    "        \n",
    "        if y_sample[int(pred)]!=1:\n",
    "            \n",
    "            error+=1\n",
    "            \n",
    "    accuracy = 1 - (error/no_of_samples)\n",
    "    return accuracy\n",
    "\n",
    "accuracy_val = accuracy_calculator(predicted_val,Y_val)\n",
    "accuracy_test = accuracy_calculator(predicted_test,Y_test)\n",
    "accuracy_train = accuracy_calculator(predicted_train,Y_train)\n",
    "\n",
    "print(\"The accuracy for train is:\")\n",
    "print(accuracy_train*100)\n",
    "print(\"The accuracy for validation is:\")\n",
    "print(accuracy_val*100)\n",
    "print(\"The accuracy for test is:\")\n",
    "print(accuracy_test*100)"
   ]
  },
  {
   "cell_type": "code",
   "execution_count": null,
   "metadata": {},
   "outputs": [],
   "source": []
  }
 ],
 "metadata": {
  "colab": {
   "collapsed_sections": [
    "ZQQfFFOrqST3"
   ],
   "name": "LinearPerceptron_draft4.ipynb",
   "provenance": [],
   "toc_visible": true
  },
  "kernelspec": {
   "display_name": "Python 3",
   "language": "python",
   "name": "python3"
  },
  "language_info": {
   "codemirror_mode": {
    "name": "ipython",
    "version": 3
   },
   "file_extension": ".py",
   "mimetype": "text/x-python",
   "name": "python",
   "nbconvert_exporter": "python",
   "pygments_lexer": "ipython3",
   "version": "3.8.5"
  }
 },
 "nbformat": 4,
 "nbformat_minor": 1
}
